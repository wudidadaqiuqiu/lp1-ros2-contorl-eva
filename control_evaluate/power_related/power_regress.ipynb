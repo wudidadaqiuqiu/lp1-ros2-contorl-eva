{
 "cells": [
  {
   "cell_type": "code",
   "execution_count": 1,
   "metadata": {},
   "outputs": [],
   "source": [
    "# 导入保存的特征矩阵和目标值\n",
    "import numpy as np\n",
    "from sklearn.linear_model import SGDRegressor\n",
    "from sklearn.metrics import mean_squared_error, r2_score\n",
    "data_path = '../data/'"
   ]
  },
  {
   "cell_type": "code",
   "execution_count": 2,
   "metadata": {},
   "outputs": [
    {
     "name": "stdout",
     "output_type": "stream",
     "text": [
      "Loaded X_accumulated:\n",
      "[[ -0.          -0.           0.        ]\n",
      " [ -0.          -0.           0.        ]\n",
      " [ -0.          -0.           0.        ]\n",
      " ...\n",
      " [237.22801394 237.22801394   1.26510926]\n",
      " [234.33238717 234.33238717   1.22668185]\n",
      " [231.34799113 231.34799113   1.1886911 ]]\n",
      "\n",
      "Loaded P_accumulated:\n",
      "[0.86917192 0.77902669 0.80899501 ... 5.94081211 6.54024935 6.15057802]\n"
     ]
    }
   ],
   "source": [
    "X_accumulated = np.load(data_path + 'X_accumulated.npy')\n",
    "P_accumulated = np.load(data_path + 'P_accumulated.npy')\n",
    "\n",
    "# 打印数据以确认导入是否成功\n",
    "print(\"Loaded X_accumulated:\")\n",
    "print(X_accumulated)\n",
    "\n",
    "print(\"\\nLoaded P_accumulated:\")\n",
    "print(P_accumulated)\n"
   ]
  },
  {
   "cell_type": "code",
   "execution_count": 3,
   "metadata": {},
   "outputs": [],
   "source": [
    "remove_ = np.all(X_accumulated == 0, axis=1)\n",
    "X_nonzero_rows = X_accumulated[~remove_]\n",
    "P_nonzero_rows = P_accumulated[~remove_]"
   ]
  },
  {
   "cell_type": "code",
   "execution_count": 4,
   "metadata": {},
   "outputs": [],
   "source": [
    "# model = SGDRegressor(\n",
    "#     loss='huber',  # 损失函数类型\n",
    "#     penalty='l2',  # 正则化类型\n",
    "#     alpha=0.1,  # 正则化强度\n",
    "#     fit_intercept=True,  # 是否计算截距\n",
    "#     max_iter=50000,  # 最大迭代次数\n",
    "#     tol=0.01,  # 收敛容忍度\n",
    "#     shuffle=True,  # 是否打乱数据\n",
    "#     verbose=0,  # 输出的详细程度\n",
    "#     random_state=None,  # 随机数生成器的种子\n",
    "#     learning_rate='optimal',  # 学习率类型\n",
    "#     epsilon=1,\n",
    "#     eta0=0.01,  # 初始学习率\n",
    "#     power_t=0.25,  # 学习率调整的幂\n",
    "#     early_stopping=False,  # 是否启用早期停止\n",
    "#     validation_fraction=0.1,  # 验证集的比例\n",
    "#     n_iter_no_change=10,  # 连续多少轮未改进则停止\n",
    "#     warm_start=False,  # 是否使用温启动\n",
    "#     average=False  # 是否使用平均梯度\n",
    "# )\n",
    "\n",
    "model = SGDRegressor(\n",
    "    loss='huber',  # 损失函数类型\n",
    "    penalty='l2',  # 正则化类型\n",
    "    alpha=0.8,  # 正则化强度\n",
    "    fit_intercept=True,  # 是否计算截距\n",
    "    max_iter=100000,  # 最大迭代次数\n",
    "    tol=0.01,  # 收敛容忍度\n",
    "    shuffle=True,  # 是否打乱数据\n",
    "    verbose=0,  # 输出的详细程度\n",
    "    random_state=None,  # 随机数生成器的种子\n",
    "    learning_rate='optimal',  # 学习率类型\n",
    "    epsilon=1,\n",
    "    eta0=0.01,  # 初始学习率\n",
    "    power_t=0.25,  # 学习率调整的幂\n",
    "    early_stopping=False,  # 是否启用早期停止\n",
    "    validation_fraction=0.1,  # 验证集的比例\n",
    "    n_iter_no_change=10,  # 连续多少轮未改进则停止\n",
    "    warm_start=False,  # 是否使用温启动\n",
    "    average=False  # 是否使用平均梯度\n",
    ")\n"
   ]
  },
  {
   "cell_type": "code",
   "execution_count": 5,
   "metadata": {},
   "outputs": [
    {
     "name": "stdout",
     "output_type": "stream",
     "text": [
      "\n",
      "Model coefficients:\n",
      "[0.00479301 0.01457816 0.08997533]\n",
      "Model intercept:\n",
      "[0.85633447]\n"
     ]
    }
   ],
   "source": [
    "# 使用导入的数据进行训练\n",
    "model.fit(X_nonzero_rows, P_nonzero_rows)\n",
    "\n",
    "# 打印模型系数\n",
    "print(\"\\nModel coefficients:\")\n",
    "print(model.coef_)\n",
    "print(\"Model intercept:\")\n",
    "print(model.intercept_)"
   ]
  },
  {
   "cell_type": "code",
   "execution_count": 6,
   "metadata": {},
   "outputs": [
    {
     "name": "stdout",
     "output_type": "stream",
     "text": [
      "预测值: [0.8645541  0.86475036 0.86494895 ... 5.56554571 5.50599653 5.44476708]\n",
      "均方误差 (MSE): 5.331645922512865\n",
      "R^2分数: 0.9216147601355368\n"
     ]
    }
   ],
   "source": [
    "# 获取预测值\n",
    "y_pred = model.predict(X_nonzero_rows)\n",
    "\n",
    "# 输出结果\n",
    "print(\"预测值:\", y_pred)\n",
    "\n",
    "# 计算均方误差和R^2分数\n",
    "mse = mean_squared_error(P_nonzero_rows, y_pred)\n",
    "r2 = r2_score(P_nonzero_rows, y_pred)\n",
    "\n",
    "print(\"均方误差 (MSE):\", mse)\n",
    "print(\"R^2分数:\", r2)"
   ]
  },
  {
   "cell_type": "code",
   "execution_count": null,
   "metadata": {},
   "outputs": [],
   "source": []
  }
 ],
 "metadata": {
  "kernelspec": {
   "display_name": "Python 3",
   "language": "python",
   "name": "python3"
  },
  "language_info": {
   "codemirror_mode": {
    "name": "ipython",
    "version": 3
   },
   "file_extension": ".py",
   "mimetype": "text/x-python",
   "name": "python",
   "nbconvert_exporter": "python",
   "pygments_lexer": "ipython3",
   "version": "3.10.12"
  }
 },
 "nbformat": 4,
 "nbformat_minor": 2
}
